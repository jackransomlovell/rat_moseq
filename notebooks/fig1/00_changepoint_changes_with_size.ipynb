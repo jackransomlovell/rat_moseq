{
 "cells": [
  {
   "cell_type": "markdown",
   "metadata": {},
   "source": [
    "# Goal: To scale the rat to the size of a mouse \n",
    "- Make sure the ratio of non-zero pixels and zero pixels are the same\n",
    "- Two constraints: area matches, and ratio of zero to non-zero pixels matches. \n",
    "- First get rat down to 80x80 frame by downsampling\n",
    "- Then, resize rat to make it same size as mouse in 80x80 frame"
   ]
  },
  {
   "cell_type": "code",
   "execution_count": 24,
   "metadata": {},
   "outputs": [],
   "source": [
    "from rat_moseq.organization import get_rat_h5s, get_mouse_h5s\n",
    "from rat_moseq.size import downsample, resize_video, compute_changepoints\n",
    "from tqdm import tqdm\n",
    "import h5py\n",
    "import seaborn as sns\n",
    "import pandas as pd\n",
    "import numpy as np\n",
    "from pathlib import Path\n",
    "from matplotlib import pyplot as plt"
   ]
  },
  {
   "cell_type": "code",
   "execution_count": 2,
   "metadata": {},
   "outputs": [],
   "source": [
    "rat_key = 'frames_v2'\n",
    "rat_h5s = get_rat_h5s(check=True, key=rat_key)\n",
    "rat_h5s = np.random.choice(rat_h5s, size=50)\n",
    "\n",
    "mouse_h5s = get_mouse_h5s()\n",
    "mouse_h5s = [h5 for h5 in mouse_h5s if 'saline' in str(h5)]"
   ]
  },
  {
   "cell_type": "markdown",
   "metadata": {},
   "source": [
    "### down sample rats to 80x80"
   ]
  },
  {
   "cell_type": "code",
   "execution_count": 19,
   "metadata": {},
   "outputs": [],
   "source": [
    "dset = np.random.choice(list(downsampled.keys()))\n",
    "# frames = downsampled[dset]\n",
    "frames = h5py.File(rat_h5s[0], 'r')['frames'][()]\n",
    "\n",
    "dead_path = '/n/groups/datta/jlove/data/rat_seq/wk14/data_dead/dead_rat'\n",
    "dead_h5s = list(Path(dead_path).glob('**/proc/results_00.h5'))\n",
    "dead_frames = h5py.File(dead_h5s[-2], 'r')['frames'][()]"
   ]
  },
  {
   "cell_type": "code",
   "execution_count": 20,
   "metadata": {},
   "outputs": [
    {
     "name": "stderr",
     "output_type": "stream",
     "text": [
      "100%|██████████| 10/10 [10:06<00:00, 60.61s/it]\n"
     ]
    }
   ],
   "source": [
    "factors = np.linspace(.1, 1, 10)\n",
    "changecounts = {}\n",
    "dead_changecounts = {}\n",
    "\n",
    "for factor in tqdm(factors, total=len(factors)):\n",
    "    tmp = resize_video(frames, factor)\n",
    "    tmp_dead = resize_video(dead_frames, factor)\n",
    "\n",
    "    cp, _, _ = compute_changepoints(tmp)\n",
    "    dead_cp, _, _ = compute_changepoints(tmp_dead)\n",
    "    \n",
    "    tmp = (cp>.5).sum()\n",
    "    tmp_dead = (dead_cp>.5).sum()\n",
    "\n",
    "    changecounts[factor] = tmp\n",
    "    dead_changecounts[factor] = tmp_dead"
   ]
  },
  {
   "cell_type": "code",
   "execution_count": 21,
   "metadata": {},
   "outputs": [],
   "source": [
    "count_df = pd.DataFrame(\n",
    "    dict(factor=changecounts.keys(),\n",
    "         count=changecounts.values(),\n",
    "         dead='alive'\n",
    "    )\n",
    ")\n",
    "dead_df = pd.DataFrame(\n",
    "    dict(factor=dead_changecounts.keys(),\n",
    "         count=dead_changecounts.values(),\n",
    "         dead='dead'\n",
    "    )\n",
    ")\n",
    "count_df = pd.concat([count_df, dead_df])"
   ]
  },
  {
   "cell_type": "code",
   "execution_count": 31,
   "metadata": {},
   "outputs": [
    {
     "data": {
      "text/plain": [
       "<matplotlib.legend.Legend at 0x7f74e28bd5a0>"
      ]
     },
     "execution_count": 31,
     "metadata": {},
     "output_type": "execute_result"
    },
    {
     "data": {
      "image/png": "[encoded data removed]",
      "text/plain": [
       "<Figure size 200x400 with 1 Axes>"
      ]
     },
     "metadata": {},
     "output_type": "display_data"
    }
   ],
   "source": [
    "plt.figure(figsize=(2,4))\n",
    "sns.lineplot(\n",
    "    data=count_df,\n",
    "    x='factor',\n",
    "    y='count',\n",
    "    hue='dead'\n",
    ")\n",
    "sns.despine()\n",
    "ax = plt.gca()\n",
    "ax.set_xlim(0.1, 1)   \n",
    "ax.set_ylim(-5, 400)\n",
    "ax.set_xlabel('scaling factor')\n",
    "ax.set_ylabel('# of changepoints')\n",
    "ax.legend()"
   ]
  },
  {
   "cell_type": "code",
   "execution_count": null,
   "metadata": {},
   "outputs": [],
   "source": []
  }
 ],
 "metadata": {
  "kernelspec": {
   "display_name": "ndd",
   "language": "python",
   "name": "python3"
  },
  "language_info": {
   "codemirror_mode": {
    "name": "ipython",
    "version": 3
   },
   "file_extension": ".py",
   "mimetype": "text/x-python",
   "name": "python",
   "nbconvert_exporter": "python",
   "pygments_lexer": "ipython3",
   "version": "3.10.13"
  }
 },
 "nbformat": 4,
 "nbformat_minor": 2
}
