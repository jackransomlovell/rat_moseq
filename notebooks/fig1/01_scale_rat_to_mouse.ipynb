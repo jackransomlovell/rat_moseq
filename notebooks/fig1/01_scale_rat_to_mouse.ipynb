{
 "cells": [
  {
   "cell_type": "code",
   "execution_count": 8,
   "metadata": {},
   "outputs": [],
   "source": [
    "import os\n",
    "import pandas as pd\n",
    "import h5py\n",
    "from tqdm import tqdm\n",
    "import numpy as np\n",
    "from toolz import valmap\n",
    "from scipy.spatial.distance import cdist\n",
    "from rat_moseq.organization import get_rat_h5s, get_mouse_h5s\n",
    "from rat_moseq.size import downsample, resize_video, count_nonzero#, mask_mouse#, median_pose"
   ]
  },
  {
   "cell_type": "code",
   "execution_count": 9,
   "metadata": {},
   "outputs": [],
   "source": [
    "rat_key = 'frames_v2'\n",
    "rat_h5s = get_rat_h5s(check=True, key=rat_key)\n",
    "rat_h5s = np.random.choice(rat_h5s, size=50)"
   ]
  },
  {
   "cell_type": "code",
   "execution_count": 10,
   "metadata": {},
   "outputs": [],
   "source": [
    "mouse_h5s = get_mouse_h5s()\n",
    "mouse_h5s = [h5 for h5 in mouse_h5s if 'saline' in str(h5)]"
   ]
  },
  {
   "cell_type": "code",
   "execution_count": 14,
   "metadata": {},
   "outputs": [
    {
     "name": "stderr",
     "output_type": "stream",
     "text": [
      "  0%|          | 0/50 [00:00<?, ?it/s]"
     ]
    },
    {
     "name": "stderr",
     "output_type": "stream",
     "text": [
      "100%|██████████| 50/50 [13:25<00:00, 16.11s/it]\n"
     ]
    }
   ],
   "source": [
    "downsampled = {}\n",
    "\n",
    "downsampled_path = '/n/groups/datta/jlove/data/rat_seq/rat_seq_paper/analysis/downsampled_rat.h5'\n",
    "\n",
    "if not os.path.exists(downsampled_path):\n",
    "    for h5 in tqdm(rat_h5s):\n",
    "        with h5py.File(downsampled_path, 'w') as f:\n",
    "            frames = downsample(h5, dset=rat_key)\n",
    "            name = h5.parents[1].name\n",
    "            downsampled[name] = frames\n",
    "            f[name] = frames\n",
    "else:\n",
    "    with h5py.File(downsampled_path, 'r') as f:\n",
    "        for key in f.keys():\n",
    "            downsampled[key] = f[key][()]"
   ]
  },
  {
   "cell_type": "code",
   "execution_count": 15,
   "metadata": {},
   "outputs": [],
   "source": [
    "def median_pose(frames):\n",
    "    return np.median(frames, axis=0)\n",
    "\n",
    "def mask_mouse(frames, thresh=10):\n",
    "    return frames*(frames>thresh)"
   ]
  },
  {
   "cell_type": "code",
   "execution_count": 29,
   "metadata": {},
   "outputs": [
    {
     "name": "stderr",
     "output_type": "stream",
     "text": [
      "  0%|          | 0/24 [00:00<?, ?it/s]"
     ]
    },
    {
     "name": "stderr",
     "output_type": "stream",
     "text": [
      "100%|██████████| 24/24 [02:33<00:00,  6.40s/it]\n"
     ]
    }
   ],
   "source": [
    "mouse_poses = {}\n",
    "mouse_nonzeros = {}\n",
    "for mouse_h5 in tqdm(mouse_h5s, total=len(mouse_h5s)):\n",
    "    with h5py.File(mouse_h5, 'r') as f:\n",
    "        mouse_median_pose = np.median(mask_mouse(f['frames'][()]), axis=0)\n",
    "\n",
    "        mouse_poses[mouse_h5] = mouse_median_pose\n",
    "        mouse_nonzeros[mouse_h5] = count_nonzero(mouse_median_pose)"
   ]
  },
  {
   "cell_type": "code",
   "execution_count": 30,
   "metadata": {},
   "outputs": [],
   "source": [
    "mouse_counts = np.array(list(mouse_nonzeros.values()))"
   ]
  },
  {
   "cell_type": "code",
   "execution_count": 31,
   "metadata": {},
   "outputs": [
    {
     "name": "stderr",
     "output_type": "stream",
     "text": [
      "100%|██████████| 10/10 [26:28<00:00, 158.84s/it]\n"
     ]
    }
   ],
   "source": [
    "factors = np.linspace(.5, 1, 10)\n",
    "gross_factors = {}\n",
    "gross_median_poses = {}\n",
    "gross_counts = {}\n",
    "gross_mse = {}\n",
    "\n",
    "for factor in tqdm(factors, total=len(factors)):\n",
    "    resized_dict = {}\n",
    "    for k in downsampled.keys():\n",
    "        _frames = downsampled[k]\n",
    "        try:\n",
    "            resized_dict[k] = resize_video(_frames, factor)\n",
    "        except Exception as e:\n",
    "            print(k)\n",
    "            print(e)\n",
    "            continue\n",
    "    \n",
    "    gross_factors[factor] = resized_dict\n",
    "\n",
    "    median_poses = valmap(median_pose, resized_dict)\n",
    "    gross_median_poses[factor] = median_poses\n",
    "\n",
    "    gross_nonzeros = valmap(count_nonzero, median_poses)\n",
    "    counts = np.array(list(gross_nonzeros.values()))\n",
    "    gross_counts[factor] = counts\n",
    "\n",
    "    dist = cdist(mouse_counts[:, None], counts[:, None])\n",
    "    gross_mse[factor] = dist.mean(axis=0).mean()"
   ]
  },
  {
   "cell_type": "code",
   "execution_count": 37,
   "metadata": {},
   "outputs": [],
   "source": [
    "gross_mse = pd.DataFrame(\n",
    "    {\n",
    "        'factor': list(gross_mse.keys()),\n",
    "        'mse': list(gross_mse.values())\n",
    "    }\n",
    ")"
   ]
  },
  {
   "cell_type": "code",
   "execution_count": 38,
   "metadata": {},
   "outputs": [],
   "source": [
    "gross_mse.to_csv('/n/groups/datta/jlove/data/rat_seq/rat_seq_paper/dataframes_paper/fig1/scaling_mse.csv')"
   ]
  },
  {
   "cell_type": "markdown",
   "metadata": {},
   "source": [
    "## forgot to add"
   ]
  },
  {
   "cell_type": "code",
   "execution_count": 2,
   "metadata": {},
   "outputs": [],
   "source": [
    "import pandas as pd"
   ]
  },
  {
   "cell_type": "code",
   "execution_count": 3,
   "metadata": {},
   "outputs": [],
   "source": [
    "gross_mse = pd.read_csv('/n/groups/datta/jlove/data/rat_seq/rat_seq_paper/dataframes_paper/fig1/scaling_mse.csv')"
   ]
  },
  {
   "cell_type": "code",
   "execution_count": 4,
   "metadata": {},
   "outputs": [
    {
     "data": {
      "text/html": [
       "<div>\n",
       "<style scoped>\n",
       "    .dataframe tbody tr th:only-of-type {\n",
       "        vertical-align: middle;\n",
       "    }\n",
       "\n",
       "    .dataframe tbody tr th {\n",
       "        vertical-align: top;\n",
       "    }\n",
       "\n",
       "    .dataframe thead th {\n",
       "        text-align: right;\n",
       "    }\n",
       "</style>\n",
       "<table border=\"1\" class=\"dataframe\">\n",
       "  <thead>\n",
       "    <tr style=\"text-align: right;\">\n",
       "      <th></th>\n",
       "      <th>Unnamed: 0</th>\n",
       "      <th>factor</th>\n",
       "      <th>mse</th>\n",
       "    </tr>\n",
       "  </thead>\n",
       "  <tbody>\n",
       "    <tr>\n",
       "      <th>0</th>\n",
       "      <td>0</td>\n",
       "      <td>0.500000</td>\n",
       "      <td>404.436111</td>\n",
       "    </tr>\n",
       "    <tr>\n",
       "      <th>1</th>\n",
       "      <td>1</td>\n",
       "      <td>0.555556</td>\n",
       "      <td>357.125000</td>\n",
       "    </tr>\n",
       "    <tr>\n",
       "      <th>2</th>\n",
       "      <td>2</td>\n",
       "      <td>0.611111</td>\n",
       "      <td>295.813889</td>\n",
       "    </tr>\n",
       "    <tr>\n",
       "      <th>3</th>\n",
       "      <td>3</td>\n",
       "      <td>0.666667</td>\n",
       "      <td>224.245370</td>\n",
       "    </tr>\n",
       "    <tr>\n",
       "      <th>4</th>\n",
       "      <td>4</td>\n",
       "      <td>0.722222</td>\n",
       "      <td>176.393519</td>\n",
       "    </tr>\n",
       "    <tr>\n",
       "      <th>5</th>\n",
       "      <td>5</td>\n",
       "      <td>0.777778</td>\n",
       "      <td>160.393519</td>\n",
       "    </tr>\n",
       "    <tr>\n",
       "      <th>6</th>\n",
       "      <td>6</td>\n",
       "      <td>0.833333</td>\n",
       "      <td>180.825000</td>\n",
       "    </tr>\n",
       "    <tr>\n",
       "      <th>7</th>\n",
       "      <td>7</td>\n",
       "      <td>0.888889</td>\n",
       "      <td>245.239815</td>\n",
       "    </tr>\n",
       "    <tr>\n",
       "      <th>8</th>\n",
       "      <td>8</td>\n",
       "      <td>0.944444</td>\n",
       "      <td>310.889815</td>\n",
       "    </tr>\n",
       "    <tr>\n",
       "      <th>9</th>\n",
       "      <td>9</td>\n",
       "      <td>1.000000</td>\n",
       "      <td>418.889815</td>\n",
       "    </tr>\n",
       "  </tbody>\n",
       "</table>\n",
       "</div>"
      ],
      "text/plain": [
       "   Unnamed: 0    factor         mse\n",
       "0           0  0.500000  404.436111\n",
       "1           1  0.555556  357.125000\n",
       "2           2  0.611111  295.813889\n",
       "3           3  0.666667  224.245370\n",
       "4           4  0.722222  176.393519\n",
       "5           5  0.777778  160.393519\n",
       "6           6  0.833333  180.825000\n",
       "7           7  0.888889  245.239815\n",
       "8           8  0.944444  310.889815\n",
       "9           9  1.000000  418.889815"
      ]
     },
     "execution_count": 4,
     "metadata": {},
     "output_type": "execute_result"
    }
   ],
   "source": [
    "gross_mse"
   ]
  },
  {
   "cell_type": "code",
   "execution_count": 5,
   "metadata": {},
   "outputs": [],
   "source": [
    "from rat_moseq.io import load_downsampled_rat"
   ]
  },
  {
   "cell_type": "code",
   "execution_count": 6,
   "metadata": {},
   "outputs": [],
   "source": [
    "downsampled_path = '/n/groups/datta/jlove/data/rat_seq/rat_seq_paper/analysis/downsampled_rat.h5'\n",
    "# downsampled = load_downsampled_rat(downsampled_path)"
   ]
  },
  {
   "cell_type": "code",
   "execution_count": 18,
   "metadata": {},
   "outputs": [],
   "source": [
    "resized_path = '/n/groups/datta/jlove/data/rat_seq/rat_seq_paper/analysis/resized_rat.h5'\n",
    "\n",
    "factor = gross_mse.iloc[gross_mse['mse'].idxmin()]['factor']\n",
    "\n",
    "with h5py.File(resized_path, 'w') as f:\n",
    "    for k in downsampled.keys():\n",
    "        _frames = downsampled[k]\n",
    "        f[k] = resize_video(_frames, factor)"
   ]
  },
  {
   "cell_type": "code",
   "execution_count": 22,
   "metadata": {},
   "outputs": [],
   "source": [
    "import matplotlib.pyplot as plt"
   ]
  },
  {
   "cell_type": "code",
   "execution_count": 23,
   "metadata": {},
   "outputs": [
    {
     "data": {
      "image/png": "[encoded data removed]",
      "text/plain": [
       "<Figure size 640x480 with 1 Axes>"
      ]
     },
     "metadata": {},
     "output_type": "display_data"
    }
   ],
   "source": [
    "with h5py.File(resized_path, 'r') as f:\n",
    "    plt.imshow(f['session_20240422113407'][()][0])"
   ]
  },
  {
   "cell_type": "code",
   "execution_count": null,
   "metadata": {},
   "outputs": [],
   "source": []
  },
  {
   "cell_type": "code",
   "execution_count": null,
   "metadata": {},
   "outputs": [],
   "source": []
  }
 ],
 "metadata": {
  "kernelspec": {
   "display_name": "ndd",
   "language": "python",
   "name": "python3"
  },
  "language_info": {
   "codemirror_mode": {
    "name": "ipython",
    "version": 3
   },
   "file_extension": ".py",
   "mimetype": "text/x-python",
   "name": "python",
   "nbconvert_exporter": "python",
   "pygments_lexer": "ipython3",
   "version": "3.10.13"
  }
 },
 "nbformat": 4,
 "nbformat_minor": 2
}
